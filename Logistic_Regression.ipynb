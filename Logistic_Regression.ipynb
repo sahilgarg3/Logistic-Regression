{
 "cells": [
  {
   "cell_type": "markdown",
   "id": "arctic-integrity",
   "metadata": {},
   "source": [
    "# 1. DATA PREPROCESSING"
   ]
  },
  {
   "cell_type": "code",
   "execution_count": 1,
   "id": "satisfied-british",
   "metadata": {},
   "outputs": [],
   "source": [
    "from sklearn import datasets\n",
    "import numpy as np\n",
    "import random"
   ]
  },
  {
   "cell_type": "markdown",
   "id": "sticky-sperm",
   "metadata": {},
   "source": [
    "### 1.1. Load the data"
   ]
  },
  {
   "cell_type": "code",
   "execution_count": 2,
   "id": "transsexual-mitchell",
   "metadata": {},
   "outputs": [],
   "source": [
    "x_csr, y = datasets.load_svmlight_file('diabetes')\n",
    "x = x_csr.todense()"
   ]
  },
  {
   "cell_type": "code",
   "execution_count": 3,
   "id": "oriental-consortium",
   "metadata": {},
   "outputs": [
    {
     "name": "stdout",
     "output_type": "stream",
     "text": [
      "Shape of x: (768, 8)\n",
      "Shape of y: (768,)\n"
     ]
    }
   ],
   "source": [
    "print(f'Shape of x: {x.shape}')\n",
    "print(f'Shape of y: {y.shape}')"
   ]
  },
  {
   "cell_type": "code",
   "execution_count": 4,
   "id": "strong-philadelphia",
   "metadata": {},
   "outputs": [],
   "source": [
    "x = np.array(x)\n",
    "y = np.array(y).reshape(768, 1)"
   ]
  },
  {
   "cell_type": "markdown",
   "id": "departmental-closer",
   "metadata": {},
   "source": [
    "### 1.2. Partition to training and test sets"
   ]
  },
  {
   "cell_type": "code",
   "execution_count": 5,
   "id": "green-weight",
   "metadata": {},
   "outputs": [],
   "source": [
    "from sklearn.model_selection import train_test_split\n",
    "X_train, X_test, y_train, y_test = train_test_split(x, y, test_size=0.2, random_state = 34)"
   ]
  },
  {
   "cell_type": "code",
   "execution_count": 6,
   "id": "dedicated-facial",
   "metadata": {},
   "outputs": [
    {
     "name": "stdout",
     "output_type": "stream",
     "text": [
      "Shape of X_train: (614, 8)\n",
      "Shape of y_train: (614, 1)\n",
      "Shape of X_test: (154, 8)\n",
      "Shape of y_test: (154, 1)\n"
     ]
    }
   ],
   "source": [
    "print(f'Shape of X_train: {X_train.shape}')\n",
    "print(f'Shape of y_train: {y_train.shape}')\n",
    "print(f'Shape of X_test: {X_test.shape}')\n",
    "print(f'Shape of y_test: {y_test.shape}')"
   ]
  },
  {
   "cell_type": "markdown",
   "id": "unlimited-attraction",
   "metadata": {},
   "source": [
    "### 1.3. Feature Scaling"
   ]
  },
  {
   "cell_type": "markdown",
   "id": "powered-science",
   "metadata": {},
   "source": [
    "Standardization"
   ]
  },
  {
   "cell_type": "code",
   "execution_count": 7,
   "id": "frozen-lesbian",
   "metadata": {},
   "outputs": [],
   "source": [
    "from sklearn.preprocessing import StandardScaler\n",
    "sc = StandardScaler()"
   ]
  },
  {
   "cell_type": "code",
   "execution_count": 8,
   "id": "living-affect",
   "metadata": {},
   "outputs": [],
   "source": [
    "X_train = sc.fit_transform(X_train)\n",
    "X_test = sc.transform(X_test)"
   ]
  },
  {
   "cell_type": "code",
   "execution_count": 9,
   "id": "indoor-climb",
   "metadata": {},
   "outputs": [
    {
     "name": "stdout",
     "output_type": "stream",
     "text": [
      "Test Mean = [-0.25637437  0.12176086 -0.09741854  0.03541182  0.04577823  0.00247053\n",
      "  0.05911059 -0.17752461]\n",
      "Test Std = [0.93213627 1.00192648 1.1591729  1.00804844 1.0617536  1.10936106\n",
      " 1.19870753 0.92302966]\n"
     ]
    }
   ],
   "source": [
    "print(f'Test Mean = {np.mean(X_test, axis= 0)}')\n",
    "print(f'Test Std = {np.std(X_test, axis= 0)}')"
   ]
  },
  {
   "cell_type": "markdown",
   "id": "numerical-horizontal",
   "metadata": {},
   "source": [
    "### 1.4. Add a dimension of all ones"
   ]
  },
  {
   "cell_type": "code",
   "execution_count": 10,
   "id": "activated-sleeping",
   "metadata": {},
   "outputs": [],
   "source": [
    "train_ones = np.ones((X_train.shape[0], 1))\n",
    "test_ones = np.ones((X_test.shape[0], 1))"
   ]
  },
  {
   "cell_type": "code",
   "execution_count": 11,
   "id": "limited-teach",
   "metadata": {},
   "outputs": [
    {
     "name": "stdout",
     "output_type": "stream",
     "text": [
      "Shape of X_train: (614, 9)\n",
      "Shape of X_test: (154, 9)\n"
     ]
    }
   ],
   "source": [
    "X_train = np.concatenate((X_train, train_ones), axis = 1)\n",
    "X_test = np.concatenate((X_test, test_ones), axis = 1)\n",
    "print(f'Shape of X_train: {X_train.shape}')\n",
    "print(f'Shape of X_test: {X_test.shape}')"
   ]
  },
  {
   "cell_type": "markdown",
   "id": "adopted-masters",
   "metadata": {},
   "source": [
    "# 2. Logistic regression model\n",
    "\n",
    "The objective function is $Q (w; X, y) = \\frac{1}{n} \\sum_{i=1}^n \\log \\Big( 1 + \\exp \\big( - y_i x_i^T w \\big) \\Big) + \\frac{\\lambda}{2} \\| w \\|_2^2 $. "
   ]
  },
  {
   "cell_type": "code",
   "execution_count": 12,
   "id": "wicked-regard",
   "metadata": {},
   "outputs": [],
   "source": [
    "def objective(w, x, y, lam):\n",
    "    n = y.shape[0]\n",
    "    yxw = np.dot(y * x, w)\n",
    "    ans = (np.mean( np.log( 1 + np.exp(-yxw)) + lam/2 * np.sum(w * w)))\n",
    "    return ans"
   ]
  },
  {
   "cell_type": "markdown",
   "id": "pursuant-stage",
   "metadata": {},
   "source": [
    "## Evaluate the objective func value at w"
   ]
  },
  {
   "cell_type": "code",
   "execution_count": 13,
   "id": "overall-owner",
   "metadata": {},
   "outputs": [],
   "source": [
    "d = X_train.shape[1]\n",
    "\n",
    "# for two different values of w\n",
    "\n",
    "w1 = np.zeros((d, 1))\n",
    "w2 = np.random.random((d, 1))\n",
    "\n",
    "lam = 1E-6"
   ]
  },
  {
   "cell_type": "code",
   "execution_count": 14,
   "id": "signal-russell",
   "metadata": {},
   "outputs": [
    {
     "name": "stdout",
     "output_type": "stream",
     "text": [
      "Initial objective function value at w1 : 0.6931471805599453\n"
     ]
    }
   ],
   "source": [
    "obj1 = objective(w1, X_train, y_train, lam)\n",
    "print(f\"Initial objective function value at w1 : {obj1}\")"
   ]
  },
  {
   "cell_type": "code",
   "execution_count": 15,
   "id": "junior-pixel",
   "metadata": {},
   "outputs": [
    {
     "name": "stdout",
     "output_type": "stream",
     "text": [
      "Initial objective function value at w2 : 1.2228626940214198\n"
     ]
    }
   ],
   "source": [
    "obj2 = objective(w2, X_train, y_train, lam)\n",
    "print(f\"Initial objective function value at w2 : {obj2}\")"
   ]
  },
  {
   "cell_type": "markdown",
   "id": "deluxe-swaziland",
   "metadata": {},
   "source": [
    "# 3. Numerical Optimization "
   ]
  },
  {
   "cell_type": "markdown",
   "id": "enhanced-soldier",
   "metadata": {},
   "source": [
    "### 3.1. Gradient descent"
   ]
  },
  {
   "cell_type": "markdown",
   "id": "criminal-midnight",
   "metadata": {},
   "source": [
    "The gradient at $w$ is $g = - \\frac{1}{n} \\sum_{i=1}^n \\frac{y_i x_i }{1 + \\exp ( y_i x_i^T w)} + \\lambda w$"
   ]
  },
  {
   "cell_type": "code",
   "execution_count": 16,
   "id": "elder-grade",
   "metadata": {},
   "outputs": [],
   "source": [
    "def gradient(w, x, y, lam):\n",
    "    n, d = x.shape\n",
    "    a = np.mean( (y * x) / (1 + np.exp(np.dot(y * x, w)) ) , axis = 0)\n",
    "    a = a.reshape(d, 1)\n",
    "    \n",
    "    g = - a + lam * w\n",
    "    \n",
    "    return g"
   ]
  },
  {
   "cell_type": "code",
   "execution_count": 17,
   "id": "sealed-invalid",
   "metadata": {},
   "outputs": [],
   "source": [
    "def grad_descent(x, y, lam, stepsize, epoch=100, w = None):\n",
    "    \n",
    "    n, d = x.shape\n",
    "    objective_vals = np.zeros(epoch)\n",
    "    \n",
    "    if w is None: w = np.zeros((d, 1))\n",
    "        \n",
    "    for i in range(epoch):\n",
    "        objective_val = objective(w, x, y, lam)\n",
    "        \n",
    "        objective_vals[i] = objective_val\n",
    "        \n",
    "        print(f\"Objective value at i = {i} is {objective_val}\")\n",
    "        \n",
    "        g = gradient(w, x, y, lam)\n",
    "        \n",
    "        w = w - stepsize * g\n",
    "        \n",
    "    return w, objective_vals"
   ]
  },
  {
   "cell_type": "markdown",
   "id": "faced-footage",
   "metadata": {},
   "source": [
    "Run Gradient Descent"
   ]
  },
  {
   "cell_type": "code",
   "execution_count": 18,
   "id": "possible-cross",
   "metadata": {
    "scrolled": true
   },
   "outputs": [
    {
     "name": "stdout",
     "output_type": "stream",
     "text": [
      "Objective value at i = 0 is 0.6931471805599453\n",
      "Objective value at i = 1 is 0.5938477146261165\n",
      "Objective value at i = 2 is 0.5550891503498607\n",
      "Objective value at i = 3 is 0.5349668947159462\n",
      "Objective value at i = 4 is 0.5226809937993626\n",
      "Objective value at i = 5 is 0.5144621175386599\n",
      "Objective value at i = 6 is 0.5086480420342216\n",
      "Objective value at i = 7 is 0.5043803905161697\n",
      "Objective value at i = 8 is 0.5011647558282497\n",
      "Objective value at i = 9 is 0.4986936319714623\n",
      "Objective value at i = 10 is 0.4967649384921111\n",
      "Objective value at i = 11 is 0.4952403930362164\n",
      "Objective value at i = 12 is 0.49402241641195316\n",
      "Objective value at i = 13 is 0.49304046585540195\n",
      "Objective value at i = 14 is 0.49224253021332404\n",
      "Objective value at i = 15 is 0.4915896243456297\n",
      "Objective value at i = 16 is 0.49105211132176235\n",
      "Objective value at i = 17 is 0.4906071819936471\n",
      "Objective value at i = 18 is 0.49023709051407854\n",
      "Objective value at i = 19 is 0.4899278963801449\n",
      "Objective value at i = 20 is 0.48966855324977754\n",
      "Objective value at i = 21 is 0.48945023959115713\n",
      "Objective value at i = 22 is 0.48926586073702294\n",
      "Objective value at i = 23 is 0.48910967419436285\n",
      "Objective value at i = 24 is 0.48897700474961747\n",
      "Objective value at i = 25 is 0.4888640257754953\n",
      "Objective value at i = 26 is 0.4887675898804614\n",
      "Objective value at i = 27 is 0.488685096707253\n",
      "Objective value at i = 28 is 0.4886143889616748\n",
      "Objective value at i = 29 is 0.48855367008009115\n",
      "Objective value at i = 30 is 0.48850143861660117\n",
      "Objective value at i = 31 is 0.48845643564573343\n",
      "Objective value at i = 32 is 0.4884176023676772\n",
      "Objective value at i = 33 is 0.48838404576289557\n",
      "Objective value at i = 34 is 0.48835501063578435\n",
      "Objective value at i = 35 is 0.4883298567581577\n",
      "Objective value at i = 36 is 0.4883080401049785\n",
      "Objective value at i = 37 is 0.4882890973900419\n",
      "Objective value at i = 38 is 0.4882726332750369\n",
      "Objective value at i = 39 is 0.48825830975378803\n",
      "Objective value at i = 40 is 0.4882458373135456\n",
      "Objective value at i = 41 is 0.488234967553639\n",
      "Objective value at i = 42 is 0.48822548700364654\n",
      "Objective value at i = 43 is 0.4882172119322236\n",
      "Objective value at i = 44 is 0.4882099839767422\n",
      "Objective value at i = 45 is 0.48820366645508667\n",
      "Objective value at i = 46 is 0.48819814124601874\n",
      "Objective value at i = 47 is 0.48819330614473805\n",
      "Objective value at i = 48 is 0.48818907261663363\n",
      "Objective value at i = 49 is 0.48818536388553196\n",
      "Objective value at i = 50 is 0.48818211330359657\n",
      "Objective value at i = 51 is 0.4881792629589187\n",
      "Objective value at i = 52 is 0.4881767624841306\n",
      "Objective value at i = 53 is 0.48817456803537923\n",
      "Objective value at i = 54 is 0.48817264141595645\n",
      "Objective value at i = 55 is 0.48817094932299276\n",
      "Objective value at i = 56 is 0.48816946269903067\n",
      "Objective value at i = 57 is 0.48816815617313186\n",
      "Objective value at i = 58 is 0.48816700757854964\n",
      "Objective value at i = 59 is 0.48816599753597184\n",
      "Objective value at i = 60 is 0.488165109093007\n",
      "Objective value at i = 61 is 0.4881643274119814\n",
      "Objective value at i = 62 is 0.4881636394992924\n",
      "Objective value at i = 63 is 0.48816303397055105\n",
      "Objective value at i = 64 is 0.4881625008465899\n",
      "Objective value at i = 65 is 0.4881620313761199\n",
      "Objective value at i = 66 is 0.488161617881423\n",
      "Objective value at i = 67 is 0.48816125362397816\n",
      "Objective value at i = 68 is 0.48816093268735616\n",
      "Objective value at i = 69 is 0.48816064987508845\n",
      "Objective value at i = 70 is 0.48816040062153176\n",
      "Objective value at i = 71 is 0.4881601809140265\n",
      "Objective value at i = 72 is 0.48815998722487075\n",
      "Objective value at i = 73 is 0.48815981645184037\n",
      "Objective value at i = 74 is 0.48815966586615034\n",
      "Objective value at i = 75 is 0.4881595330669008\n",
      "Objective value at i = 76 is 0.48815941594118306\n",
      "Objective value at i = 77 is 0.48815931262912116\n",
      "Objective value at i = 78 is 0.48815922149322716\n",
      "Objective value at i = 79 is 0.4881591410915257\n",
      "Objective value at i = 80 is 0.48815907015397353\n",
      "Objective value at i = 81 is 0.48815900756176334\n",
      "Objective value at i = 82 is 0.4881589523291522\n",
      "Objective value at i = 83 is 0.48815890358749947\n",
      "Objective value at i = 84 is 0.4881588605712439\n",
      "Objective value at i = 85 is 0.4881588226055774\n",
      "Objective value at i = 86 is 0.48815878909560967\n",
      "Objective value at i = 87 is 0.48815875951683885\n",
      "Objective value at i = 88 is 0.48815873340676935\n",
      "Objective value at i = 89 is 0.4881587103575372\n",
      "Objective value at i = 90 is 0.48815869000941975\n",
      "Objective value at i = 91 is 0.48815867204512225\n",
      "Objective value at i = 92 is 0.4881586561847489\n",
      "Objective value at i = 93 is 0.48815864218137267\n",
      "Objective value at i = 94 is 0.48815862981713465\n",
      "Objective value at i = 95 is 0.48815861889980755\n",
      "Objective value at i = 96 is 0.4881586092597677\n",
      "Objective value at i = 97 is 0.48815860074732675\n",
      "Objective value at i = 98 is 0.4881585932303809\n",
      "Objective value at i = 99 is 0.48815858659233785\n"
     ]
    }
   ],
   "source": [
    "lam = 1E-6\n",
    "stepsize = 1.0\n",
    "\n",
    "w, objvals_gd = grad_descent(X_train, y_train, lam, stepsize)"
   ]
  },
  {
   "cell_type": "markdown",
   "id": "hindu-engineering",
   "metadata": {},
   "source": [
    "# 3.2. Stochastic gradient desdcent (SGD) "
   ]
  },
  {
   "cell_type": "markdown",
   "id": "stuffed-still",
   "metadata": {},
   "source": [
    "Define $Q_i (w) = \\log \\Big( 1 + \\exp \\big( - y_i x_i^T w \\big) \\Big) + \\frac{\\lambda}{2} \\| w \\|_2^2 $.\n",
    "\n",
    "The stochastic gradient at $w$ is $g_i = \\frac{\\partial Q_i }{ \\partial w} = -\\frac{y_i x_i }{1 + \\exp ( y_i x_i^T w)} + \\lambda w$."
   ]
  },
  {
   "cell_type": "code",
   "execution_count": 19,
   "id": "empirical-resource",
   "metadata": {},
   "outputs": [],
   "source": [
    "def stochastic_objective_gradient(w, xi, yi, lam):\n",
    "    d = xi.shape[0]\n",
    "    \n",
    "    yx = yi * xi\n",
    "    \n",
    "    yxw = float( np.dot(yx, w))\n",
    "    \n",
    "    obj = np.log(1 + np.exp( - yxw )) + (lam / 2 * np.sum(w * w))\n",
    "    \n",
    "    g = (-yx.T / (1 + np.exp(yxw))).reshape(9, 1) + (lam * w)\n",
    "    \n",
    "    return obj, g"
   ]
  },
  {
   "cell_type": "code",
   "execution_count": 20,
   "id": "dutch-circus",
   "metadata": {},
   "outputs": [],
   "source": [
    "def sgd(x, y, lam, stepsize, max_epoch= 100, w = None):\n",
    "    \n",
    "    n, d = x.shape\n",
    "    objective_vals = np.zeros(max_epoch)\n",
    "    \n",
    "    if w is None: w = np.zeros((d, 1))\n",
    "    \n",
    "    for i in range(max_epoch):\n",
    "        \n",
    "        rand_indicies = np.arange(0, n)\n",
    "        random.shuffle(rand_indicies)    # Random Shuffling\n",
    "        x_rand = x[rand_indicies, :]\n",
    "        y_rand = y[rand_indicies, :]\n",
    "        \n",
    "        objective_val = 0\n",
    "        \n",
    "        for j in range(n):\n",
    "            xi = x_rand[j, :]\n",
    "            yi = float(y_rand[j, :])\n",
    "            \n",
    "            obj, g = stochastic_objective_gradient(w, xi, yi, lam)\n",
    "            objective_val = objective_val + obj\n",
    "            w = w - stepsize * g\n",
    "            \n",
    "        stepsize *= 0.9\n",
    "        objective_val = objective_val / n\n",
    "        objective_vals[i] = objective_val\n",
    "        print(f'Objective value at epoch i= {i} is {objective_val}')\n",
    "        \n",
    "    return w, objective_vals      "
   ]
  },
  {
   "cell_type": "markdown",
   "id": "adaptive-delay",
   "metadata": {},
   "source": [
    "Run SGD"
   ]
  },
  {
   "cell_type": "code",
   "execution_count": 21,
   "id": "hawaiian-belgium",
   "metadata": {
    "scrolled": true
   },
   "outputs": [
    {
     "name": "stdout",
     "output_type": "stream",
     "text": [
      "Objective value at epoch i= 0 is 0.5470816690467453\n",
      "Objective value at epoch i= 1 is 0.5385157707667224\n",
      "Objective value at epoch i= 2 is 0.5323731502737022\n",
      "Objective value at epoch i= 3 is 0.5267862298373013\n",
      "Objective value at epoch i= 4 is 0.5096200267317104\n",
      "Objective value at epoch i= 5 is 0.525267879814227\n",
      "Objective value at epoch i= 6 is 0.5229562800932692\n",
      "Objective value at epoch i= 7 is 0.5180697088556621\n",
      "Objective value at epoch i= 8 is 0.5141140887693609\n",
      "Objective value at epoch i= 9 is 0.511837409923911\n",
      "Objective value at epoch i= 10 is 0.5122011024758579\n",
      "Objective value at epoch i= 11 is 0.5064972854261339\n",
      "Objective value at epoch i= 12 is 0.5047505808591409\n",
      "Objective value at epoch i= 13 is 0.5028727420604927\n",
      "Objective value at epoch i= 14 is 0.5036493390141551\n",
      "Objective value at epoch i= 15 is 0.4969402101454623\n",
      "Objective value at epoch i= 16 is 0.501487066411086\n",
      "Objective value at epoch i= 17 is 0.49894889824946714\n",
      "Objective value at epoch i= 18 is 0.49803334962975065\n",
      "Objective value at epoch i= 19 is 0.4967228392609153\n",
      "Objective value at epoch i= 20 is 0.4969104845937097\n",
      "Objective value at epoch i= 21 is 0.4951309906714499\n",
      "Objective value at epoch i= 22 is 0.4955554325543112\n",
      "Objective value at epoch i= 23 is 0.49312135641413185\n",
      "Objective value at epoch i= 24 is 0.4946404279509969\n",
      "Objective value at epoch i= 25 is 0.4928919014639873\n",
      "Objective value at epoch i= 26 is 0.4927584896351172\n",
      "Objective value at epoch i= 27 is 0.492201641369315\n",
      "Objective value at epoch i= 28 is 0.4920590261237162\n",
      "Objective value at epoch i= 29 is 0.49172036494019644\n",
      "Objective value at epoch i= 30 is 0.49122254595099646\n",
      "Objective value at epoch i= 31 is 0.49107090703236467\n",
      "Objective value at epoch i= 32 is 0.49064042054367246\n",
      "Objective value at epoch i= 33 is 0.4905850853516718\n",
      "Objective value at epoch i= 34 is 0.49021544522989563\n",
      "Objective value at epoch i= 35 is 0.4901135012547426\n",
      "Objective value at epoch i= 36 is 0.48986185171997393\n",
      "Objective value at epoch i= 37 is 0.48973968982969696\n",
      "Objective value at epoch i= 38 is 0.48959315825020366\n",
      "Objective value at epoch i= 39 is 0.48944438886977537\n",
      "Objective value at epoch i= 40 is 0.4892679467479789\n",
      "Objective value at epoch i= 41 is 0.48920646508016297\n",
      "Objective value at epoch i= 42 is 0.48908949817451286\n",
      "Objective value at epoch i= 43 is 0.48900814975027423\n",
      "Objective value at epoch i= 44 is 0.4889281598210146\n",
      "Objective value at epoch i= 45 is 0.48884224245103414\n",
      "Objective value at epoch i= 46 is 0.48877868314722167\n",
      "Objective value at epoch i= 47 is 0.48871260934193306\n",
      "Objective value at epoch i= 48 is 0.4886617710531493\n",
      "Objective value at epoch i= 49 is 0.4886102226023936\n",
      "Objective value at epoch i= 50 is 0.4885635344541741\n",
      "Objective value at epoch i= 51 is 0.4885267989943528\n",
      "Objective value at epoch i= 52 is 0.48848931936469603\n",
      "Objective value at epoch i= 53 is 0.4884553254192285\n",
      "Objective value at epoch i= 54 is 0.4884268502354975\n",
      "Objective value at epoch i= 55 is 0.48840034889825257\n",
      "Objective value at epoch i= 56 is 0.48837589488496136\n",
      "Objective value at epoch i= 57 is 0.4883537017239438\n",
      "Objective value at epoch i= 58 is 0.4883346185239963\n",
      "Objective value at epoch i= 59 is 0.48831731468805545\n",
      "Objective value at epoch i= 60 is 0.4883010003698846\n",
      "Objective value at epoch i= 61 is 0.48828719420620703\n",
      "Objective value at epoch i= 62 is 0.4882742079868717\n",
      "Objective value at epoch i= 63 is 0.488262823656054\n",
      "Objective value at epoch i= 64 is 0.4882522202396374\n",
      "Objective value at epoch i= 65 is 0.48824293531126894\n",
      "Objective value at epoch i= 66 is 0.4882343835271854\n",
      "Objective value at epoch i= 67 is 0.4882270206674696\n",
      "Objective value at epoch i= 68 is 0.48822023153746413\n",
      "Objective value at epoch i= 69 is 0.4882140380794918\n",
      "Objective value at epoch i= 70 is 0.48820854700259814\n",
      "Objective value at epoch i= 71 is 0.4882035472601282\n",
      "Objective value at epoch i= 72 is 0.48819903337705733\n",
      "Objective value at epoch i= 73 is 0.4881949957367489\n",
      "Objective value at epoch i= 74 is 0.48819134725640584\n",
      "Objective value at epoch i= 75 is 0.48818809323561185\n",
      "Objective value at epoch i= 76 is 0.48818516181999777\n",
      "Objective value at epoch i= 77 is 0.4881825140307917\n",
      "Objective value at epoch i= 78 is 0.4881801264839449\n",
      "Objective value at epoch i= 79 is 0.488177977646876\n",
      "Objective value at epoch i= 80 is 0.4881760468001536\n",
      "Objective value at epoch i= 81 is 0.4881743046322246\n",
      "Objective value at epoch i= 82 is 0.488172735700426\n",
      "Objective value at epoch i= 83 is 0.48817133070293695\n",
      "Objective value at epoch i= 84 is 0.4881700619935079\n",
      "Objective value at epoch i= 85 is 0.4881689198956062\n",
      "Objective value at epoch i= 86 is 0.48816789265951926\n",
      "Objective value at epoch i= 87 is 0.48816696831462003\n",
      "Objective value at epoch i= 88 is 0.48816613585821184\n",
      "Objective value at epoch i= 89 is 0.48816538713005336\n",
      "Objective value at epoch i= 90 is 0.4881647131761548\n",
      "Objective value at epoch i= 91 is 0.48816410538668775\n",
      "Objective value at epoch i= 92 is 0.48816355916652737\n",
      "Objective value at epoch i= 93 is 0.4881630685721032\n",
      "Objective value at epoch i= 94 is 0.4881626261018292\n",
      "Objective value at epoch i= 95 is 0.48816222824544325\n",
      "Objective value at epoch i= 96 is 0.48816186986592797\n",
      "Objective value at epoch i= 97 is 0.48816154755153807\n",
      "Objective value at epoch i= 98 is 0.48816125725675874\n",
      "Objective value at epoch i= 99 is 0.48816099604271174\n"
     ]
    }
   ],
   "source": [
    "lam = 1E-6\n",
    "stepsize = 0.1\n",
    "\n",
    "w, objvals_sgd = sgd(X_train, y_train, lam, stepsize)"
   ]
  },
  {
   "cell_type": "markdown",
   "id": "judicial-crack",
   "metadata": {},
   "source": [
    "# 4. Compare GD with SGD"
   ]
  },
  {
   "cell_type": "markdown",
   "id": "fuzzy-memorabilia",
   "metadata": {},
   "source": [
    "Plot objective function values against epochs."
   ]
  },
  {
   "cell_type": "code",
   "execution_count": 22,
   "id": "turkish-grammar",
   "metadata": {},
   "outputs": [],
   "source": [
    "import matplotlib.pyplot as plt\n",
    "from matplotlib import style"
   ]
  },
  {
   "cell_type": "code",
   "execution_count": 23,
   "id": "compressed-jurisdiction",
   "metadata": {},
   "outputs": [
    {
     "name": "stderr",
     "output_type": "stream",
     "text": [
      "<ipython-input-23-dae6eabe1692>:6: MatplotlibDeprecationWarning: Case-insensitive properties were deprecated in 3.3 and support will be removed two minor releases later\n",
      "  gd, = plt.plot(epochs, objvals_gd, 'g--', Linewidth = 5)\n",
      "<ipython-input-23-dae6eabe1692>:7: MatplotlibDeprecationWarning: Case-insensitive properties were deprecated in 3.3 and support will be removed two minor releases later\n",
      "  sgd, = plt.plot(epochs, objvals_sgd, '-r', Linewidth = 4)\n",
      "<ipython-input-23-dae6eabe1692>:9: MatplotlibDeprecationWarning: Case-insensitive properties were deprecated in 3.3 and support will be removed two minor releases later\n",
      "  plt.xlabel('Epochs', fontSize=25)\n",
      "<ipython-input-23-dae6eabe1692>:10: MatplotlibDeprecationWarning: Case-insensitive properties were deprecated in 3.3 and support will be removed two minor releases later\n",
      "  plt.ylabel('Objective Value', fontSize=25)\n",
      "<ipython-input-23-dae6eabe1692>:11: MatplotlibDeprecationWarning: Case-insensitive properties were deprecated in 3.3 and support will be removed two minor releases later\n",
      "  plt.xticks(FontSize=20)\n",
      "<ipython-input-23-dae6eabe1692>:12: MatplotlibDeprecationWarning: Case-insensitive properties were deprecated in 3.3 and support will be removed two minor releases later\n",
      "  plt.yticks(FontSize=20)\n"
     ]
    },
    {
     "data": {
      "image/png": "[encoded data removed]",
      "text/plain": [
       "<Figure size 1152x648 with 1 Axes>"
      ]
     },
     "metadata": {
      "needs_background": "light"
     },
     "output_type": "display_data"
    }
   ],
   "source": [
    "fig = plt.figure(figsize=(16, 9))\n",
    "style.use('ggplot')\n",
    "\n",
    "epochs = np.arange(0, 100)\n",
    "\n",
    "gd, = plt.plot(epochs, objvals_gd, 'g--', Linewidth = 5)\n",
    "sgd, = plt.plot(epochs, objvals_sgd, '-r', Linewidth = 4)\n",
    "\n",
    "plt.xlabel('Epochs', fontSize=25)\n",
    "plt.ylabel('Objective Value', fontSize=25)\n",
    "plt.xticks(FontSize=20)\n",
    "plt.yticks(FontSize=20)\n",
    "plt.legend([gd, sgd], ['GD', 'SGD'], fontsize=30)\n",
    "plt.show()"
   ]
  },
  {
   "cell_type": "markdown",
   "id": "rough-pointer",
   "metadata": {},
   "source": [
    "# 5. Prediction"
   ]
  },
  {
   "cell_type": "code",
   "execution_count": 24,
   "id": "celtic-dollar",
   "metadata": {},
   "outputs": [
    {
     "name": "stdout",
     "output_type": "stream",
     "text": [
      "Training classification error is : 0.23778501628664495\n",
      "Test classification error is : 0.18831168831168832\n"
     ]
    }
   ],
   "source": [
    "f_train = np.sign(np.dot(X_train, w))\n",
    "diff_train = 0.5 * (np.abs(f_train - y_train))\n",
    "print(f'Training classification error is : {np.mean(diff_train)}')\n",
    "\n",
    "f_test = np.sign(np.dot(X_test, w))\n",
    "diff_test = 0.5 * (np.abs(f_test - y_test))\n",
    "print(f'Test classification error is : {np.mean(diff_test)}')"
   ]
  },
  {
   "cell_type": "markdown",
   "id": "shared-machinery",
   "metadata": {},
   "source": [
    "# 6. Mini-batch SGD"
   ]
  },
  {
   "cell_type": "markdown",
   "id": "alert-poultry",
   "metadata": {},
   "source": [
    "Define $Q_I (w) = \\frac{1}{b} \\sum_{i \\in I} \\log \\Big( 1 + \\exp \\big( - y_i x_i^T w \\big) \\Big) + \\frac{\\lambda}{2} \\| w \\|_2^2 $, where $I$ is a set containing $b$ indices randomly drawn from $\\{ 1, \\cdots , n \\}$ without replacement.\n",
    "\n",
    "The stochastic gradient at $w$ is $g_I = \\frac{\\partial Q_I }{ \\partial w} = \\frac{1}{b} \\sum_{i \\in I} \\frac{- y_i x_i }{1 + \\exp ( y_i x_i^T w)} + \\lambda w$."
   ]
  },
  {
   "cell_type": "code",
   "execution_count": 25,
   "id": "formed-battery",
   "metadata": {},
   "outputs": [],
   "source": [
    "def mb_stochastic_objective_gradient(w, xi, yi, lam, b):\n",
    "    d = w.shape[0]\n",
    "    \n",
    "    yx = yi * xi\n",
    "    yxw = np.dot(yx, w)\n",
    "    \n",
    "    obj = np.mean( np.log(1 + np.exp(-yxw)) ) + lam/2*np.sum(w*w)\n",
    "    \n",
    "    a = np.mean( (yx) / (1 + np.exp(yxw) ) , axis = 0)\n",
    "    a = a.reshape(d, 1)\n",
    "    \n",
    "    g = - a + lam * w\n",
    "    \n",
    "    return obj, g    "
   ]
  },
  {
   "cell_type": "markdown",
   "id": "under-brooklyn",
   "metadata": {},
   "source": [
    "### 6.2. Implement mini-batch SGD"
   ]
  },
  {
   "cell_type": "code",
   "execution_count": 26,
   "id": "operating-parish",
   "metadata": {},
   "outputs": [],
   "source": [
    "def mb_sgd(x, y, lam, b, stepsize, epochs=100, w=None):\n",
    "    n, d = x.shape\n",
    "    \n",
    "    objective_vals = np.zeros(epochs)\n",
    "    \n",
    "    if w is None: w = np.zeros((d, 1))\n",
    "    \n",
    "    for e in range(epochs):\n",
    "        \n",
    "        rand_indicies = np.arange(0, n)\n",
    "        random.shuffle(rand_indicies)\n",
    "        x_rand = x[rand_indicies, :]\n",
    "        y_rand = y[rand_indicies, :]\n",
    "        \n",
    "        objective_val = 0\n",
    "        \n",
    "        for j in range(n-b):\n",
    "            xi = x_rand[j:j+b, :]\n",
    "            yi = y_rand[j:j+b, :]\n",
    "            \n",
    "            obj, g = mb_stochastic_objective_gradient(w, xi, yi, lam, b)\n",
    "            objective_val += obj\n",
    "            w = w - stepsize * g\n",
    "        \n",
    "        stepsize *= 0.9\n",
    "        objective_val = objective_val / n\n",
    "        objective_vals[e] = objective_val\n",
    "        print(f'Objective value at epoch e= {e} is {objective_val}')\n",
    "        \n",
    "    return w, objective_vals"
   ]
  },
  {
   "cell_type": "markdown",
   "id": "second-snowboard",
   "metadata": {},
   "source": [
    "### 6.3. Run MB-SGD"
   ]
  },
  {
   "cell_type": "code",
   "execution_count": 27,
   "id": "white-spencer",
   "metadata": {
    "scrolled": true
   },
   "outputs": [
    {
     "name": "stdout",
     "output_type": "stream",
     "text": [
      "Objective value at epoch e= 0 is 0.45939536896327515\n",
      "Objective value at epoch e= 1 is 0.4607796321825641\n",
      "Objective value at epoch e= 2 is 0.45747854806611843\n",
      "Objective value at epoch e= 3 is 0.46529148021815464\n",
      "Objective value at epoch e= 4 is 0.46179954760999065\n",
      "Objective value at epoch e= 5 is 0.4681617302745085\n",
      "Objective value at epoch e= 6 is 0.4753318402725105\n",
      "Objective value at epoch e= 7 is 0.4610158294819576\n",
      "Objective value at epoch e= 8 is 0.4778824008933947\n",
      "Objective value at epoch e= 9 is 0.4807792236637176\n",
      "Objective value at epoch e= 10 is 0.4734808406181535\n",
      "Objective value at epoch e= 11 is 0.4810614061002933\n",
      "Objective value at epoch e= 12 is 0.4739073609449662\n",
      "Objective value at epoch e= 13 is 0.4764879006332528\n",
      "Objective value at epoch e= 14 is 0.4765250170193545\n",
      "Objective value at epoch e= 15 is 0.48173670451013806\n",
      "Objective value at epoch e= 16 is 0.4791295219278113\n",
      "Objective value at epoch e= 17 is 0.48225656089926905\n",
      "Objective value at epoch e= 18 is 0.47918701318619417\n",
      "Objective value at epoch e= 19 is 0.48226175760599693\n",
      "Objective value at epoch e= 20 is 0.47854045531727485\n",
      "Objective value at epoch e= 21 is 0.48435428327646707\n",
      "Objective value at epoch e= 22 is 0.47733859795920336\n",
      "Objective value at epoch e= 23 is 0.4795090860882182\n",
      "Objective value at epoch e= 24 is 0.48306956412212715\n",
      "Objective value at epoch e= 25 is 0.4845354432519131\n",
      "Objective value at epoch e= 26 is 0.4829189441893136\n",
      "Objective value at epoch e= 27 is 0.47766295395057545\n",
      "Objective value at epoch e= 28 is 0.485622050960887\n",
      "Objective value at epoch e= 29 is 0.4811585297223857\n",
      "Objective value at epoch e= 30 is 0.4828860591131948\n",
      "Objective value at epoch e= 31 is 0.48163122333899583\n",
      "Objective value at epoch e= 32 is 0.48309477802596\n",
      "Objective value at epoch e= 33 is 0.482388793016443\n",
      "Objective value at epoch e= 34 is 0.4793002696096819\n",
      "Objective value at epoch e= 35 is 0.4823687443821764\n",
      "Objective value at epoch e= 36 is 0.4852414093224708\n",
      "Objective value at epoch e= 37 is 0.4806188719982376\n",
      "Objective value at epoch e= 38 is 0.48183701484316616\n",
      "Objective value at epoch e= 39 is 0.4786938669467979\n",
      "Objective value at epoch e= 40 is 0.4806790798084705\n",
      "Objective value at epoch e= 41 is 0.4805097191024482\n",
      "Objective value at epoch e= 42 is 0.4834786505279234\n",
      "Objective value at epoch e= 43 is 0.4832072853310896\n",
      "Objective value at epoch e= 44 is 0.4810218054157456\n",
      "Objective value at epoch e= 45 is 0.48404197014965156\n",
      "Objective value at epoch e= 46 is 0.4800293734534722\n",
      "Objective value at epoch e= 47 is 0.4837740338138959\n",
      "Objective value at epoch e= 48 is 0.4782126923856693\n",
      "Objective value at epoch e= 49 is 0.48425046455172727\n",
      "Objective value at epoch e= 50 is 0.4820179148358914\n",
      "Objective value at epoch e= 51 is 0.4813986263556325\n",
      "Objective value at epoch e= 52 is 0.48365215863907907\n",
      "Objective value at epoch e= 53 is 0.48263171555531487\n",
      "Objective value at epoch e= 54 is 0.48167247588329126\n",
      "Objective value at epoch e= 55 is 0.4824983411279162\n",
      "Objective value at epoch e= 56 is 0.48263170564233504\n",
      "Objective value at epoch e= 57 is 0.4824229767465369\n",
      "Objective value at epoch e= 58 is 0.48218290211700277\n",
      "Objective value at epoch e= 59 is 0.48225045239252246\n",
      "Objective value at epoch e= 60 is 0.4817304030165504\n",
      "Objective value at epoch e= 61 is 0.48096385826946664\n",
      "Objective value at epoch e= 62 is 0.48205712274768786\n",
      "Objective value at epoch e= 63 is 0.4794512542558567\n",
      "Objective value at epoch e= 64 is 0.4767562042345683\n",
      "Objective value at epoch e= 65 is 0.483582086368328\n",
      "Objective value at epoch e= 66 is 0.47877888494983517\n",
      "Objective value at epoch e= 67 is 0.4811177881606425\n",
      "Objective value at epoch e= 68 is 0.4788874280278661\n",
      "Objective value at epoch e= 69 is 0.4837507597266086\n",
      "Objective value at epoch e= 70 is 0.481761779938158\n",
      "Objective value at epoch e= 71 is 0.4826299634968299\n",
      "Objective value at epoch e= 72 is 0.48359549850660455\n",
      "Objective value at epoch e= 73 is 0.48081493181303253\n",
      "Objective value at epoch e= 74 is 0.48006784108327133\n",
      "Objective value at epoch e= 75 is 0.47965765231703156\n",
      "Objective value at epoch e= 76 is 0.48443556254527337\n",
      "Objective value at epoch e= 77 is 0.48242778548130405\n",
      "Objective value at epoch e= 78 is 0.47888044356626935\n",
      "Objective value at epoch e= 79 is 0.4800926548874305\n",
      "Objective value at epoch e= 80 is 0.48207959620000224\n",
      "Objective value at epoch e= 81 is 0.4849504870755921\n",
      "Objective value at epoch e= 82 is 0.4783192076050217\n",
      "Objective value at epoch e= 83 is 0.4843843732743024\n",
      "Objective value at epoch e= 84 is 0.48245642005058276\n",
      "Objective value at epoch e= 85 is 0.482429512560373\n",
      "Objective value at epoch e= 86 is 0.47952621267823775\n",
      "Objective value at epoch e= 87 is 0.4824020162219352\n",
      "Objective value at epoch e= 88 is 0.47706037518461886\n",
      "Objective value at epoch e= 89 is 0.48156092007122087\n",
      "Objective value at epoch e= 90 is 0.4819792441769681\n",
      "Objective value at epoch e= 91 is 0.4823142696807208\n",
      "Objective value at epoch e= 92 is 0.48053251010653164\n",
      "Objective value at epoch e= 93 is 0.48146290948094905\n",
      "Objective value at epoch e= 94 is 0.4850023056646764\n",
      "Objective value at epoch e= 95 is 0.4809968491911421\n",
      "Objective value at epoch e= 96 is 0.4820417727979023\n",
      "Objective value at epoch e= 97 is 0.4811410641456534\n",
      "Objective value at epoch e= 98 is 0.48437950986291367\n",
      "Objective value at epoch e= 99 is 0.48310674049755586\n"
     ]
    }
   ],
   "source": [
    "lam = 1E-6\n",
    "b8 = 8\n",
    "stepsize = 0.12\n",
    "\n",
    "w, objvals_mbsgd8 = mb_sgd(X_train, y_train, lam, b8, stepsize)"
   ]
  },
  {
   "cell_type": "code",
   "execution_count": 28,
   "id": "homeless-upper",
   "metadata": {
    "scrolled": true
   },
   "outputs": [
    {
     "name": "stdout",
     "output_type": "stream",
     "text": [
      "Objective value at epoch e= 0 is 0.429643222415655\n",
      "Objective value at epoch e= 1 is 0.4126912290581454\n",
      "Objective value at epoch e= 2 is 0.4296748692234493\n",
      "Objective value at epoch e= 3 is 0.4258311669253282\n",
      "Objective value at epoch e= 4 is 0.4123517479916771\n",
      "Objective value at epoch e= 5 is 0.4340129316627905\n",
      "Objective value at epoch e= 6 is 0.4245847885575726\n",
      "Objective value at epoch e= 7 is 0.4353665009415393\n",
      "Objective value at epoch e= 8 is 0.4289202262646891\n",
      "Objective value at epoch e= 9 is 0.42073183532270264\n",
      "Objective value at epoch e= 10 is 0.44180897830874083\n",
      "Objective value at epoch e= 11 is 0.43570915295462115\n",
      "Objective value at epoch e= 12 is 0.4172657352696116\n",
      "Objective value at epoch e= 13 is 0.4269950093173814\n",
      "Objective value at epoch e= 14 is 0.4319726096856778\n",
      "Objective value at epoch e= 15 is 0.4364803392706065\n",
      "Objective value at epoch e= 16 is 0.44032730330522013\n",
      "Objective value at epoch e= 17 is 0.4401677240581432\n",
      "Objective value at epoch e= 18 is 0.43810346521740745\n",
      "Objective value at epoch e= 19 is 0.4386170165084827\n",
      "Objective value at epoch e= 20 is 0.4413378514576009\n",
      "Objective value at epoch e= 21 is 0.43352076639565307\n",
      "Objective value at epoch e= 22 is 0.4430143031852593\n",
      "Objective value at epoch e= 23 is 0.43899449584903005\n",
      "Objective value at epoch e= 24 is 0.43254288097013804\n",
      "Objective value at epoch e= 25 is 0.4384211055725542\n",
      "Objective value at epoch e= 26 is 0.42784497925867054\n",
      "Objective value at epoch e= 27 is 0.43250052422065094\n",
      "Objective value at epoch e= 28 is 0.4408117005092778\n",
      "Objective value at epoch e= 29 is 0.4399135626757643\n",
      "Objective value at epoch e= 30 is 0.43946965254462966\n",
      "Objective value at epoch e= 31 is 0.4238439630860877\n",
      "Objective value at epoch e= 32 is 0.44383981724995536\n",
      "Objective value at epoch e= 33 is 0.44479273781962253\n",
      "Objective value at epoch e= 34 is 0.43614389609113086\n",
      "Objective value at epoch e= 35 is 0.44174496370754995\n",
      "Objective value at epoch e= 36 is 0.4322993617060089\n",
      "Objective value at epoch e= 37 is 0.4265817880001566\n",
      "Objective value at epoch e= 38 is 0.43784547664870543\n",
      "Objective value at epoch e= 39 is 0.4337121236911177\n",
      "Objective value at epoch e= 40 is 0.4363944496109126\n",
      "Objective value at epoch e= 41 is 0.43339138361723756\n",
      "Objective value at epoch e= 42 is 0.43380192673977924\n",
      "Objective value at epoch e= 43 is 0.440041171034285\n",
      "Objective value at epoch e= 44 is 0.4295046786697286\n",
      "Objective value at epoch e= 45 is 0.4436148896214553\n",
      "Objective value at epoch e= 46 is 0.4385141172543722\n",
      "Objective value at epoch e= 47 is 0.42882981732858666\n",
      "Objective value at epoch e= 48 is 0.43956205137359233\n",
      "Objective value at epoch e= 49 is 0.4240614890674096\n",
      "Objective value at epoch e= 50 is 0.4385204399299148\n",
      "Objective value at epoch e= 51 is 0.42391611976860183\n",
      "Objective value at epoch e= 52 is 0.43775959584170476\n",
      "Objective value at epoch e= 53 is 0.43591065024799247\n",
      "Objective value at epoch e= 54 is 0.4368740897953461\n",
      "Objective value at epoch e= 55 is 0.42865212252951185\n",
      "Objective value at epoch e= 56 is 0.4270219249565217\n",
      "Objective value at epoch e= 57 is 0.43943899979470896\n",
      "Objective value at epoch e= 58 is 0.44392748983599806\n",
      "Objective value at epoch e= 59 is 0.42768447989501485\n",
      "Objective value at epoch e= 60 is 0.44416288984625957\n",
      "Objective value at epoch e= 61 is 0.43376957628370433\n",
      "Objective value at epoch e= 62 is 0.44030905855996666\n",
      "Objective value at epoch e= 63 is 0.42547035781415365\n",
      "Objective value at epoch e= 64 is 0.434050719629274\n",
      "Objective value at epoch e= 65 is 0.44049121149141834\n",
      "Objective value at epoch e= 66 is 0.44367576906953865\n",
      "Objective value at epoch e= 67 is 0.4478381786243618\n",
      "Objective value at epoch e= 68 is 0.43375471281190003\n",
      "Objective value at epoch e= 69 is 0.4427337625270292\n",
      "Objective value at epoch e= 70 is 0.44021906865731797\n",
      "Objective value at epoch e= 71 is 0.4399987292845944\n",
      "Objective value at epoch e= 72 is 0.43815184672564234\n",
      "Objective value at epoch e= 73 is 0.4320512510695454\n",
      "Objective value at epoch e= 74 is 0.4369840467893172\n",
      "Objective value at epoch e= 75 is 0.4334644869723719\n",
      "Objective value at epoch e= 76 is 0.4431009561110812\n",
      "Objective value at epoch e= 77 is 0.4305177103626152\n",
      "Objective value at epoch e= 78 is 0.4404107290151977\n",
      "Objective value at epoch e= 79 is 0.43789171079419753\n",
      "Objective value at epoch e= 80 is 0.4375939193064916\n",
      "Objective value at epoch e= 81 is 0.4396888543906149\n",
      "Objective value at epoch e= 82 is 0.4300813881673483\n",
      "Objective value at epoch e= 83 is 0.44142725176516\n",
      "Objective value at epoch e= 84 is 0.4431993865937831\n",
      "Objective value at epoch e= 85 is 0.4402224015638359\n",
      "Objective value at epoch e= 86 is 0.43466325773780623\n",
      "Objective value at epoch e= 87 is 0.4325554548635411\n",
      "Objective value at epoch e= 88 is 0.44441631636374657\n",
      "Objective value at epoch e= 89 is 0.44147763155921615\n",
      "Objective value at epoch e= 90 is 0.4426689982828788\n",
      "Objective value at epoch e= 91 is 0.4364320148667192\n",
      "Objective value at epoch e= 92 is 0.42704207922043214\n",
      "Objective value at epoch e= 93 is 0.44826704960010977\n",
      "Objective value at epoch e= 94 is 0.4386614440693926\n",
      "Objective value at epoch e= 95 is 0.43640670217913063\n",
      "Objective value at epoch e= 96 is 0.4432923459220798\n",
      "Objective value at epoch e= 97 is 0.4269479007727729\n",
      "Objective value at epoch e= 98 is 0.43369194704025993\n",
      "Objective value at epoch e= 99 is 0.43651881950857596\n"
     ]
    }
   ],
   "source": [
    "b64 = 64\n",
    "w, objvals_mbsgd64 = mb_sgd(X_train, y_train, lam, b64, stepsize)"
   ]
  },
  {
   "cell_type": "markdown",
   "id": "regulation-mineral",
   "metadata": {},
   "source": [
    "# 7. Plot  and Compare GD, SGD, and MB-SGD"
   ]
  },
  {
   "cell_type": "code",
   "execution_count": 29,
   "id": "domestic-triumph",
   "metadata": {},
   "outputs": [
    {
     "name": "stderr",
     "output_type": "stream",
     "text": [
      "<ipython-input-29-6f0bfbad6a6a>:6: MatplotlibDeprecationWarning: Case-insensitive properties were deprecated in 3.3 and support will be removed two minor releases later\n",
      "  gd, = plt.plot(epochs, objvals_gd, 'g--', Linewidth = 5)\n",
      "<ipython-input-29-6f0bfbad6a6a>:7: MatplotlibDeprecationWarning: Case-insensitive properties were deprecated in 3.3 and support will be removed two minor releases later\n",
      "  sgd, = plt.plot(epochs, objvals_sgd, '-r', Linewidth = 5)\n",
      "<ipython-input-29-6f0bfbad6a6a>:8: MatplotlibDeprecationWarning: Case-insensitive properties were deprecated in 3.3 and support will be removed two minor releases later\n",
      "  mb_sgd8, = plt.plot(epochs, objvals_mbsgd8, 'mo', Linewidth = 5)\n",
      "<ipython-input-29-6f0bfbad6a6a>:9: MatplotlibDeprecationWarning: Case-insensitive properties were deprecated in 3.3 and support will be removed two minor releases later\n",
      "  mb_sgd64, = plt.plot(epochs, objvals_mbsgd64, 'rs', Linewidth = 5)\n",
      "<ipython-input-29-6f0bfbad6a6a>:11: MatplotlibDeprecationWarning: Case-insensitive properties were deprecated in 3.3 and support will be removed two minor releases later\n",
      "  plt.xlabel('Epochs', fontSize=25)\n",
      "<ipython-input-29-6f0bfbad6a6a>:12: MatplotlibDeprecationWarning: Case-insensitive properties were deprecated in 3.3 and support will be removed two minor releases later\n",
      "  plt.ylabel('Objective Value', fontSize=25)\n",
      "<ipython-input-29-6f0bfbad6a6a>:13: MatplotlibDeprecationWarning: Case-insensitive properties were deprecated in 3.3 and support will be removed two minor releases later\n",
      "  plt.xticks(FontSize=20)\n",
      "<ipython-input-29-6f0bfbad6a6a>:14: MatplotlibDeprecationWarning: Case-insensitive properties were deprecated in 3.3 and support will be removed two minor releases later\n",
      "  plt.yticks(FontSize=20)\n"
     ]
    },
    {
     "data": {
      "image/png": "[encoded data removed]",
      "text/plain": [
       "<Figure size 1152x648 with 1 Axes>"
      ]
     },
     "metadata": {},
     "output_type": "display_data"
    }
   ],
   "source": [
    "fig = plt.figure(figsize=(16, 9))\n",
    "style.use('ggplot')\n",
    "\n",
    "epochs = np.arange(0, 100)\n",
    "\n",
    "gd, = plt.plot(epochs, objvals_gd, 'g--', Linewidth = 5)\n",
    "sgd, = plt.plot(epochs, objvals_sgd, '-r', Linewidth = 5)\n",
    "mb_sgd8, = plt.plot(epochs, objvals_mbsgd8, 'mo', Linewidth = 5)\n",
    "mb_sgd64, = plt.plot(epochs, objvals_mbsgd64, 'rs', Linewidth = 5)\n",
    "\n",
    "plt.xlabel('Epochs', fontSize=25)\n",
    "plt.ylabel('Objective Value', fontSize=25)\n",
    "plt.xticks(FontSize=20)\n",
    "plt.yticks(FontSize=20)\n",
    "\n",
    "plt.legend([gd, sgd, mb_sgd8, mb_sgd64], ['GD', 'SGD', 'MB-SGD_8', 'MB-SGD_64'], \n",
    "           fontsize=30)\n",
    "plt.show()"
   ]
  },
  {
   "cell_type": "markdown",
   "id": "floral-detective",
   "metadata": {},
   "source": []
  },
  {
   "cell_type": "code",
   "execution_count": null,
   "id": "fiscal-capture",
   "metadata": {},
   "outputs": [],
   "source": []
  }
 ],
 "metadata": {
  "kernelspec": {
   "display_name": "Python 3",
   "language": "python",
   "name": "python3"
  },
  "language_info": {
   "codemirror_mode": {
    "name": "ipython",
    "version": 3
   },
   "file_extension": ".py",
   "mimetype": "text/x-python",
   "name": "python",
   "nbconvert_exporter": "python",
   "pygments_lexer": "ipython3",
   "version": "3.8.5"
  }
 },
 "nbformat": 4,
 "nbformat_minor": 5
}
